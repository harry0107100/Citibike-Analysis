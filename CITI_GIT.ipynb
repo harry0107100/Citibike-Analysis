{
 "cells": [
  {
   "cell_type": "code",
   "execution_count": null,
   "metadata": {},
   "outputs": [],
   "source": [
    "import numpy as np\n",
    "import pandas as pd\n",
    "import matplotlib.pyplot as plt\n",
    "import seaborn as sns\n",
    "% matplotlib inline\n",
    "plt.style.use('seaborn-whitegrid')"
   ]
  },
  {
   "cell_type": "code",
   "execution_count": null,
   "metadata": {},
   "outputs": [],
   "source": [
    "df_bike = pd.read_csv('/Users/dingranlu/Documents/E4501/Project/JC-201810-citibike-tripdata.csv')"
   ]
  },
  {
   "cell_type": "code",
   "execution_count": null,
   "metadata": {},
   "outputs": [],
   "source": [
    "df_bike.describe()"
   ]
  },
  {
   "cell_type": "code",
   "execution_count": null,
   "metadata": {},
   "outputs": [],
   "source": [
    "df_bike.head()"
   ]
  },
  {
   "cell_type": "code",
   "execution_count": null,
   "metadata": {},
   "outputs": [],
   "source": [
    "df_bike = df_bike.dropna()"
   ]
  },
  {
   "cell_type": "code",
   "execution_count": null,
   "metadata": {},
   "outputs": [],
   "source": [
    "westlimit=-74.2635; southlimit=40.4856; eastlimit=-73.7526; northlimit=40.9596\n",
    "df_bike = df_bike[(df_bike['start station longitude'] >= westlimit) & (df_bike['start station longitude'] <= eastlimit) \n",
    "        & (df_bike['start station latitude'] >= southlimit) & (df_bike['start station latitude'] <= northlimit)\n",
    "        & (df_bike['end station longitude'] >= westlimit) & (df['end station longitude'] <= eastlimit)\n",
    "        & (df['end station latitude'] >= southlimit) & (df['end station latitude'] <= northlimit)]\n",
    "\n"
   ]
  },
  {
   "cell_type": "markdown",
   "metadata": {},
   "source": [
    "# Plotting Map"
   ]
  },
  {
   "cell_type": "code",
   "execution_count": null,
   "metadata": {},
   "outputs": [],
   "source": [
    "\n",
    "def plot_on_map(df, bound, nyc_map, s=1, alpha=0.2):\n",
    "    fig, axs = plt.subplots(1, 2, figsize=(16,10))\n",
    "    axs[0].imshow(nyc_map, extent=bound)\n",
    "    axs[0].scatter(df['start station longitude'], df['start station latitude'], alpha=alpha, c='r', s=s)\n",
    "    axs[0].set_xlim((bound[0], bound[1]))\n",
    "    axs[0].set_ylim((bound[2], bound[3]))\n",
    "    axs[0].set_title('Start Station Locations')\n",
    "    \n",
    "    axs[1].imshow(nyc_map, extent=bound)\n",
    "    axs[1].scatter(df['end station longitude'], df['end station latitude'], alpha=alpha, c='r', s=s)\n",
    "    axs[1].set_xlim((bound[0], bound[1]))\n",
    "    axs[1].set_ylim((bound[2], bound[3]))\n",
    "    axs[1].set_title('End Station Locations')\n"
   ]
  },
  {
   "cell_type": "code",
   "execution_count": null,
   "metadata": {},
   "outputs": [],
   "source": [
    "nyc_map = plt.imread('https://aiblog.nl/download/nyc_-74.5_-72.8_40.5_41.8.png')\n",
    "bound = [westlimit, eastlimit, southlimit, northlimit]\n",
    "plot_on_map(df_bike, bound, nyc_map)"
   ]
  },
  {
   "cell_type": "code",
   "execution_count": null,
   "metadata": {},
   "outputs": [],
   "source": [
    "bound_zoom = (-74.2, -73.79, 40.65, 40.83)\n",
    "nyc_map_zoom = plt.imread('/Users/dingranlu/Desktop/nyc_map.png')\n",
    "plot_on_map(df_bike, bound_zoom, nyc_map_zoom,s=1)"
   ]
  },
  {
   "cell_type": "markdown",
   "metadata": {},
   "source": [
    "# Distance and time"
   ]
  },
  {
   "cell_type": "code",
   "execution_count": null,
   "metadata": {},
   "outputs": [],
   "source": [
    "# function for calculating distance\n",
    "# This function is acquired online from:\n",
    "# https://stackoverflow.com/questions/19412462/getting-distance-between-two-points-based-on-latitude-longitude\n",
    "def distance(lat1, lon1, lat2, lon2):\n",
    "    lat1 = np.radians(lat1)\n",
    "    lon1 = np.radians(lon1)\n",
    "    lat2 = np.radians(lat2)\n",
    "    lon2 = np.radians(lon2)\n",
    "    R = 6373\n",
    "    dlon = lon2 - lon1\n",
    "    dlat = lat2 - lat1\n",
    "    a = (np.sin(dlat/2))**2 + np.cos(lat1) * np.cos(lat2) * (np.sin(dlon/2))**2\n",
    "    c = 2 * np.arctan2(np.sqrt(a), np.sqrt(1-a))\n",
    "    return R * c"
   ]
  },
  {
   "cell_type": "code",
   "execution_count": null,
   "metadata": {},
   "outputs": [],
   "source": [
    "# add a new column for distance calculated\n",
    "df['distance'] = distance(df['start station latitude'], df['start station longitude'], \n",
    "                          df['end station latitude'], df['end station longitude'])\n",
    "\n",
    "# add a new column age\n",
    "df['age'] = 2018 - df['birth year']\n",
    "\n",
    "# add a new column age range\n",
    "df['age range'] = np.where(df['age'] < 20, 'younger than 20', \n",
    "                 np.where(df['age'] <= 40, 'between 20 and 40',\n",
    "                 np.where(df['age'] > 40, 'older than 40', '')))\n",
    "\n",
    "# add new column - specified gender\n",
    "df['gender_specified'] = np.where(df['gender'] == 0, 'unknown', \n",
    "                 np.where(df['gender'] == 1, 'male',\n",
    "                 np.where(df['gender'] == 2, 'female', '')))\n",
    "\n",
    "# drop if distance = 0 but tripduration > 0\n",
    "df.drop(df[(df['distance'] == 0) & (df['tripduration'] > 0)].index, inplace = True)\n",
    "\n",
    "\n",
    "# histogram of distance without grouping\n",
    "df.distance.hist(bins=80, figsize=(15,5))\n",
    "plt.xlabel('Distance')\n",
    "plt.title('Histogram of trip distances in miles')\n",
    "df.distance.describe()"
   ]
  },
  {
   "cell_type": "markdown",
   "metadata": {},
   "source": [
    "<li>We can see from above histogram that the bike trips are primarily short-distance trips. "
   ]
  },
  {
   "cell_type": "code",
   "execution_count": null,
   "metadata": {},
   "outputs": [],
   "source": [
    "# histogram of distance with grouping of gender\n",
    "df.groupby('gender_specified').distance.hist(bins=80, figsize=(15,5))\n",
    "plt.xlabel('Distance')\n",
    "plt.title('Histogram of trip distances in miles grouped by gender')\n",
    "plt.legend(['unknown','male','female'])\n",
    "df.groupby('gender_specified').distance.describe()"
   ]
  },
  {
   "cell_type": "code",
   "execution_count": null,
   "metadata": {},
   "outputs": [],
   "source": [
    "df.groupby('gender_specified')['distance', 'tripduration'].mean()\n",
    "# calculate the average speed for different gender groups (mile/minute)\n",
    "speed = (df.groupby('gender_specified')['distance'].mean())/(df.groupby('gender_specified')['tripduration'].mean()/60)"
   ]
  },
  {
   "cell_type": "code",
   "execution_count": null,
   "metadata": {},
   "outputs": [],
   "source": [
    "# histogram of distance with grouping of age\n",
    "df.groupby('age range').distance.hist(bins=80, figsize=(15,5))\n",
    "plt.xlabel('Distance')\n",
    "plt.title('Histogram of trip distances in miles grouped by age range')\n",
    "plt.legend(['younger than 20','between 20 and 40','older than 40'])\n",
    "df.groupby('age range').distance.describe()"
   ]
  },
  {
   "cell_type": "code",
   "execution_count": null,
   "metadata": {},
   "outputs": [],
   "source": [
    "df.groupby('age range')['distance', 'tripduration'].mean()\n",
    "# calculates average speed for different age groups (mile/minute)\n",
    "speed = (df.groupby('age range')['distance'].mean()) / (df.groupby('age range')['tripduration'].mean() / 60)"
   ]
  },
  {
   "cell_type": "code",
   "execution_count": null,
   "metadata": {},
   "outputs": [],
   "source": [
    "# histogram of distance with grouping of usertype\n",
    "df.groupby('usertype').distance.hist(bins=80, figsize=(15,5))\n",
    "plt.xlabel('Distance')\n",
    "plt.title('Histogram of trip distances in miles grouped by user type')\n",
    "plt.legend(['Customer','Subscriber'])\n",
    "df.groupby('usertype').distance.describe()"
   ]
  },
  {
   "cell_type": "code",
   "execution_count": null,
   "metadata": {},
   "outputs": [],
   "source": [
    "df.groupby('usertype')['distance', 'tripduration'].mean()\n",
    "# calculates average speed for different user types (mile/minute)\n",
    "speed = (df.groupby('usertype')['distance'].mean()) / (df.groupby('usertype')['tripduration'].mean() / 60)"
   ]
  },
  {
   "cell_type": "code",
   "execution_count": null,
   "metadata": {},
   "outputs": [],
   "source": [
    "# scatter plot distance - trip duration (grouped by gender)\n",
    "fig, axs = plt.subplots(1, 3, figsize=(20,6))\n",
    "axs[0].scatter(df[df['gender_specified'] == 'male'].distance, df[df['gender_specified'] == 'male'].tripduration, alpha = 0.4, c = 'g')\n",
    "axs[0].set_xlabel('distance in mile')\n",
    "axs[0].set_ylabel('trip duration')\n",
    "axs[0].set_title('Male')\n",
    "\n",
    "axs[1].scatter(df[df['gender_specified'] == 'female'].distance, df[df['gender_specified'] == 'female'].tripduration, alpha = 0.4, c = 'g')\n",
    "axs[1].set_xlabel('distance in mile')\n",
    "axs[1].set_ylabel('trip duration')\n",
    "axs[1].set_title('Female')\n",
    "\n",
    "axs[2].scatter(df[df['gender_specified'] == 'unknown'].distance, df[df['gender_specified'] == 'unknown'].tripduration, alpha = 0.4, c = 'g')\n",
    "axs[2].set_xlabel('distance in mile')\n",
    "axs[2].set_ylabel('trip duration')\n",
    "axs[2].set_title('Uknown')"
   ]
  },
  {
   "cell_type": "code",
   "execution_count": null,
   "metadata": {},
   "outputs": [],
   "source": [
    "# scatter plot distance - trip duration (grouped by age range)\n",
    "fig, axs = plt.subplots(1, 3, figsize=(20,6))\n",
    "axs[0].scatter(df[df['age range'] == 'younger than 20'].distance, df[df['age range'] == 'younger than 20'].tripduration, alpha = 0.4, c = 'g')\n",
    "axs[0].set_xlabel('distance in mile')\n",
    "axs[0].set_ylabel('trip duration')\n",
    "axs[0].set_title('Younger than 20')\n",
    "\n",
    "axs[1].scatter(df[df['age range'] == 'between 20 and 40'].distance, df[df['age range'] == 'between 20 and 40'].tripduration, alpha = 0.4, c = 'g')\n",
    "axs[1].set_xlabel('distance in mile')\n",
    "axs[1].set_ylabel('trip duration')\n",
    "axs[1].set_title('Between 20 and 40')\n",
    "\n",
    "axs[2].scatter(df[df['age range'] == 'older than 40'].distance, df[df['age range'] == 'older than 40'].tripduration, alpha = 0.4, c = 'g')\n",
    "axs[2].set_xlabel('distance in mile')\n",
    "axs[2].set_ylabel('trip duration')\n",
    "axs[2].set_title('Older than 40')"
   ]
  },
  {
   "cell_type": "code",
   "execution_count": null,
   "metadata": {},
   "outputs": [],
   "source": [
    "# scatter plot distance - trip duration (grouped by user type)\n",
    "fig, axs = plt.subplots(1, 2, figsize=(15,6))\n",
    "axs[0].scatter(df[df['usertype'] == 'Customer'].distance, df[df['usertype'] == 'Customer'].tripduration, alpha = 0.4, c = 'g')\n",
    "axs[0].set_xlabel('distance in mile')\n",
    "axs[0].set_ylabel('trip duration')\n",
    "axs[0].set_title('Customer')\n",
    "\n",
    "axs[1].scatter(df[df['usertype'] == 'Subscriber'].distance, df[df['usertype'] == 'Subscriber'].tripduration, alpha = 0.4, c = 'g')\n",
    "axs[1].set_xlabel('distance in mile')\n",
    "axs[1].set_ylabel('trip duration')\n",
    "axs[1].set_title('Subscriber')"
   ]
  },
  {
   "cell_type": "markdown",
   "metadata": {},
   "source": [
    "# Trips by hour on weekdays and weekends"
   ]
  },
  {
   "cell_type": "code",
   "execution_count": null,
   "metadata": {},
   "outputs": [],
   "source": [
    "%matplotlib inline\n",
    "import matplotlib.pyplot as plt\n",
    "plt.style.use('seaborn')\n",
    "import datetime"
   ]
  },
  {
   "cell_type": "code",
   "execution_count": null,
   "metadata": {},
   "outputs": [],
   "source": [
    "#formatting data\n",
    "df['starttime'] = df['starttime'].apply(lambda x:datetime.datetime.strptime(x,'%Y-%m-%d %H:%M:%S'))\n",
    "df['day_of_week'] = df['starttime'].apply(lambda x: x.weekday()+1) #1-7 representing Mon to Sun\n",
    "df['pickup_hour'] = df['starttime'].apply(lambda x:int(datetime.datetime.strftime(x,'%H')))\n",
    "df['pickup_year'] = df['starttime'].apply(lambda x:int(datetime.datetime.strftime(x,'%Y')))\n",
    "df['pickup_month'] = df['starttime'].apply(lambda x:int(datetime.datetime.strftime(x,'%m')))\n",
    "\n",
    "#pick up density by months\n",
    "group_month = df.groupby('pickup_month')\n",
    "group_month.size().plot(kind='bar',title=\"Trips by months\")\n",
    "\n",
    "#pick up density by hour on weekdays\n",
    "df_weekday=df[(df['day_of_week']!=6)&(df['day_of_week']!=7)]\n",
    "group_weekday = df_weekday.groupby('hour')\n",
    "group_weekday.size().plot(kind='bar',title=\"pick up trips by hour on weekday\")\n",
    "\n",
    "#pick up density by hour on weekends\n",
    "df_weekend=df[(df['day_of_week']==6)&(df['day_of_week']==7)]\n",
    "group_weekend = df_weekend.groupby('hour')\n",
    "group_weekend.size().plot(kind='bar',title=\"pick up trips by hour on weekend\")"
   ]
  },
  {
   "cell_type": "markdown",
   "metadata": {},
   "source": [
    "# Pick up density in Manhattan and outer borough"
   ]
  },
  {
   "cell_type": "code",
   "execution_count": null,
   "metadata": {},
   "outputs": [],
   "source": [
    "def if_Manhattan_station(latitude,longitude):\n",
    "    \n",
    "    # Separate Manhattan into five rectangles to check whether one given point in Manhattan or not.\n",
    "    # In referrence to the bike distribution in https://member.citibikenyc.com/map/ and \n",
    "    \n",
    "    a1=[(40.6997,40.7080),(-74.0200,-74.0003)]\n",
    "    a2=[(40.7501,40.8445),(-73.9704,-73.9550)]\n",
    "    a3=[(40.7080,40.8162),(-74.0200,-73.9704)]\n",
    "    a4=[(40.7641,40.8445),(-73.9550,-73.9418)]\n",
    "    a5=[(40.7836,40.8445),(-73.9418,-73.9273)]    \n",
    "    \n",
    "    # Start checking\n",
    "    if ((a1[0][0]<=latitude<=a1[0][1]) & (a1[1][0]<=longitude<=a1[1][1]))\\\n",
    "    or ((a2[0][0]<=latitude<=a2[0][1]) & (a2[1][0]<=longitude<=a2[1][1]))\\\n",
    "    or ((a3[0][0]<=latitude<=a3[0][1]) & (a3[1][0]<=longitude<=a3[1][1]))\\\n",
    "    or ((a4[0][0]<=latitude<=a4[0][1]) & (a4[1][0]<=longitude<=a4[1][1]))\\\n",
    "    or ((a5[0][0]<=latitude<=a5[0][1]) & (a5[1][0]<=longitude<=a5[1][1])): \n",
    "    \n",
    "        return 1 # point within Manhattan\n",
    "    else:\n",
    "        return 0 # point out of Manhattan\n"
   ]
  }
 ],
 "metadata": {
  "kernelspec": {
   "display_name": "Python 3",
   "language": "python",
   "name": "python3"
  },
  "language_info": {
   "codemirror_mode": {
    "name": "ipython",
    "version": 3
   },
   "file_extension": ".py",
   "mimetype": "text/x-python",
   "name": "python",
   "nbconvert_exporter": "python",
   "pygments_lexer": "ipython3",
   "version": "3.6.5"
  }
 },
 "nbformat": 4,
 "nbformat_minor": 2
}
