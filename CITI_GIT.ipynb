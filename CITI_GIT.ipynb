{
 "cells": [
  {
   "cell_type": "code",
   "execution_count": null,
   "metadata": {},
   "outputs": [],
   "source": [
    "import numpy as np\n",
    "import pandas as pd\n",
    "import matplotlib.pyplot as plt\n",
    "import seaborn as sns\n",
    "% matplotlib inline\n",
    "plt.style.use('seaborn-whitegrid')"
   ]
  },
  {
   "cell_type": "code",
   "execution_count": null,
   "metadata": {},
   "outputs": [],
   "source": [
    "df_bike = pd.read_csv('/Users/dingranlu/Documents/E4501/Project/201810-citibike-tripdata.csv')"
   ]
  },
  {
   "cell_type": "code",
   "execution_count": null,
   "metadata": {},
   "outputs": [],
   "source": [
    "df_bike.describe()"
   ]
  },
  {
   "cell_type": "code",
   "execution_count": null,
   "metadata": {},
   "outputs": [],
   "source": [
    "df_bike.head()"
   ]
  },
  {
   "cell_type": "code",
   "execution_count": null,
   "metadata": {},
   "outputs": [],
   "source": [
    "df_bike = df_bike.dropna()"
   ]
  },
  {
   "cell_type": "code",
   "execution_count": null,
   "metadata": {},
   "outputs": [],
   "source": [
    "# westlimit=-74.2635; southlimit=40.4856; eastlimit=-73.7526; northlimit=40.9596\n",
    "# df_bike = df_bike[(df_bike['start station longitude'] >= westlimit) & (df_bike['start station longitude'] <= eastlimit) \n",
    "#         & (df_bike['start station latitude'] >= southlimit) & (df_bike['start station latitude'] <= northlimit)\n",
    "#         & (df_bike['end station longitude'] >= westlimit) & (df['end station longitude'] <= eastlimit)\n",
    "#         & (df['end station latitude'] >= southlimit) & (df['end station latitude'] <= northlimit)]\n",
    "\n"
   ]
  },
  {
   "cell_type": "markdown",
   "metadata": {},
   "source": [
    "# Plotting Map"
   ]
  },
  {
   "cell_type": "code",
   "execution_count": null,
   "metadata": {},
   "outputs": [],
   "source": [
    "\n",
    "def plot_on_map(df, bound, nyc_map, s=1, alpha=0.2):\n",
    "    fig, axs = plt.subplots(1, 2, figsize=(16,10))\n",
    "    axs[0].imshow(nyc_map, extent=bound)\n",
    "    axs[0].scatter(df['start station longitude'], df['start station latitude'], alpha=alpha, c='r', s=s)\n",
    "    axs[0].set_xlim((bound[0], bound[1]))\n",
    "    axs[0].set_ylim((bound[2], bound[3]))\n",
    "    axs[0].set_title('Start Station Locations')\n",
    "    \n",
    "    axs[1].imshow(nyc_map, extent=bound)\n",
    "    axs[1].scatter(df['end station longitude'], df['end station latitude'], alpha=alpha, c='r', s=s)\n",
    "    axs[1].set_xlim((bound[0], bound[1]))\n",
    "    axs[1].set_ylim((bound[2], bound[3]))\n",
    "    axs[1].set_title('End Station Locations')\n"
   ]
  },
  {
   "cell_type": "code",
   "execution_count": null,
   "metadata": {},
   "outputs": [],
   "source": [
    "bound_zoom = (-74.2, -73.79, 40.65, 40.83)\n",
    "nyc_map_zoom = plt.imread('/Users/dingranlu/Desktop/nyc_map.png')\n",
    "plot_on_map(df_bike, bound_zoom, nyc_map_zoom,s=1)"
   ]
  },
  {
   "cell_type": "markdown",
   "metadata": {},
   "source": [
    "# GeoJson"
   ]
  },
  {
   "cell_type": "code",
   "execution_count": null,
   "metadata": {},
   "outputs": [],
   "source": [
    "start_name = df_bike['start station name'].unique()\n",
    "end_name = df_bike['end station name'].unique()"
   ]
  },
  {
   "cell_type": "code",
   "execution_count": null,
   "metadata": {},
   "outputs": [],
   "source": [
    "print(f'The number of unique names of start station is: {len(start_name)}')\n",
    "print(f'The number of unique names of end station is: {len(end_name)}')\n",
    "print('Since start stations and end stations are different, we need to plot two seperate plots')"
   ]
  },
  {
   "cell_type": "code",
   "execution_count": null,
   "metadata": {},
   "outputs": [],
   "source": [
    "start_dict = dict()\n",
    "for name in start_name:\n",
    "    start_dict[name] = (df_bike[df_bike['start station name'] == name].iloc[0]['start station latitude'],\n",
    "                      df_bike[df_bike['start station name'] == name].iloc[0]['start station longitude'])"
   ]
  },
  {
   "cell_type": "code",
   "execution_count": null,
   "metadata": {},
   "outputs": [],
   "source": [
    "end_dict = dict()\n",
    "for name in end_name:\n",
    "    end_dict[name] = (df_bike[df_bike['end station name'] == name].iloc[0]['end station latitude'],\n",
    "                      df_bike[df_bike['end station name'] == name].iloc[0]['end station longitude'])"
   ]
  },
  {
   "cell_type": "code",
   "execution_count": null,
   "metadata": {},
   "outputs": [],
   "source": [
    "map_dict = dict()\n",
    "map_dict[\"type\"] =\"FeatureCollection\"\n",
    "features = list()\n",
    "# lats = df['Latitude']\n",
    "# longs = df['Longitude']\n",
    "# station_name = df['Agency']\n",
    "for station in start_dict:\n",
    "    lat,lon,name = start_dict[station][0],start_dict[station][1],station\n",
    "    data_point = { \"type\": \"Feature\",\n",
    "        \"geometry\": {\"type\": \"Point\", \"coordinates\": [lon, lat]},\n",
    "        \"properties\": {\"Station Nmae\": name}\n",
    "        }\n",
    "    features.append(data_point)\n",
    "map_dict['features'] = features"
   ]
  },
  {
   "cell_type": "code",
   "execution_count": null,
   "metadata": {},
   "outputs": [],
   "source": [
    "import json\n",
    "import geojsonio\n",
    "geojsonio.display(json.dumps(map_dict))"
   ]
  },
  {
   "cell_type": "markdown",
   "metadata": {},
   "source": [
    "# Histogram of Duration"
   ]
  },
  {
   "cell_type": "code",
   "execution_count": null,
   "metadata": {},
   "outputs": [],
   "source": [
    "df_bike[df_bike.tripduration<5000].tripduration.hist(bins=100, figsize=(15,5))\n",
    "plt.xlabel('Trip Duration')\n",
    "plt.title('Histogram');"
   ]
  },
  {
   "cell_type": "markdown",
   "metadata": {},
   "source": [
    "# Distance and time"
   ]
  },
  {
   "cell_type": "code",
   "execution_count": null,
   "metadata": {},
   "outputs": [],
   "source": [
    "# function for calculating distance\n",
    "# This function is acquired online from:\n",
    "# https://stackoverflow.com/questions/19412462/getting-distance-between-two-points-based-on-latitude-longitude\n",
    "def distance(lat1, lon1, lat2, lon2):\n",
    "    lat1 = np.radians(lat1)\n",
    "    lon1 = np.radians(lon1)\n",
    "    lat2 = np.radians(lat2)\n",
    "    lon2 = np.radians(lon2)\n",
    "    R = 6373\n",
    "    dlon = lon2 - lon1\n",
    "    dlat = lat2 - lat1\n",
    "    a = (np.sin(dlat/2))**2 + np.cos(lat1) * np.cos(lat2) * (np.sin(dlon/2))**2\n",
    "    c = 2 * np.arctan2(np.sqrt(a), np.sqrt(1-a))\n",
    "    return R * c"
   ]
  },
  {
   "cell_type": "code",
   "execution_count": null,
   "metadata": {},
   "outputs": [],
   "source": [
    "# add a new column for distance calculated\n",
    "df['distance'] = distance(df['start station latitude'], df['start station longitude'], \n",
    "                          df['end station latitude'], df['end station longitude'])\n",
    "\n",
    "# add a new column age\n",
    "df['age'] = 2018 - df['birth year']\n",
    "\n",
    "# add a new column age range\n",
    "df['age range'] = np.where(df['age'] < 20, 'younger than 20', \n",
    "                 np.where(df['age'] <= 40, 'between 20 and 40',\n",
    "                 np.where(df['age'] > 40, 'older than 40', '')))\n",
    "\n",
    "# add new column - specified gender\n",
    "df['gender_specified'] = np.where(df['gender'] == 0, 'unknown', \n",
    "                 np.where(df['gender'] == 1, 'male',\n",
    "                 np.where(df['gender'] == 2, 'female', '')))\n",
    "\n",
    "# drop if distance = 0 but tripduration > 0\n",
    "df.drop(df[(df['distance'] == 0) & (df['tripduration'] > 0)].index, inplace = True)\n",
    "\n",
    "# add new column - speed\n",
    "df['speed'] = df['distance']/ (df['tripduration'] / 60)\n",
    "\n",
    "#clean format for starttime and endtime:\n",
    "df['starttime'] = df['starttime'].map(lambda x: x[:-5])\n",
    "df['stoptime'] = df['stoptime'].map(lambda x: x[:-5])\n",
    "\n",
    "# histogram of distance without grouping\n",
    "df.distance.hist(bins=80, figsize=(15,5))\n",
    "plt.xlabel('Distance')\n",
    "plt.title('Histogram of trip distances in miles')\n",
    "df.distance.describe()"
   ]
  },
  {
   "cell_type": "markdown",
   "metadata": {},
   "source": [
    "<li>We can see from above histogram that the bike trips are primarily short-distance trips. "
   ]
  },
  {
   "cell_type": "code",
   "execution_count": null,
   "metadata": {},
   "outputs": [],
   "source": [
    "# histogram of distance with grouping of gender\n",
    "df.groupby('gender_specified').distance.hist(bins=80, figsize=(15,5))\n",
    "plt.xlabel('Distance')\n",
    "plt.title('Histogram of trip distances in miles grouped by gender')\n",
    "plt.legend(['unknown','male','female'])\n",
    "df.groupby('gender_specified').distance.describe()"
   ]
  },
  {
   "cell_type": "code",
   "execution_count": null,
   "metadata": {},
   "outputs": [],
   "source": [
    "df.groupby('gender_specified')['distance', 'tripduration'].mean()\n",
    "# calculate the average speed for different gender groups (mile/minute)\n",
    "speed = (df.groupby('gender_specified')['distance'].mean())/(df.groupby('gender_specified')['tripduration'].mean()/60)"
   ]
  },
  {
   "cell_type": "code",
   "execution_count": null,
   "metadata": {},
   "outputs": [],
   "source": [
    "# histogram of distance with grouping of age\n",
    "df.groupby('age range').distance.hist(bins=80, figsize=(15,5))\n",
    "plt.xlabel('Distance')\n",
    "plt.title('Histogram of trip distances in miles grouped by age range')\n",
    "plt.legend(['younger than 20','between 20 and 40','older than 40'])\n",
    "df.groupby('age range').distance.describe()"
   ]
  },
  {
   "cell_type": "code",
   "execution_count": null,
   "metadata": {},
   "outputs": [],
   "source": [
    "df.groupby('age range')['distance', 'tripduration'].mean()\n",
    "# calculates average speed for different age groups (mile/minute)\n",
    "speed = (df.groupby('age range')['distance'].mean()) / (df.groupby('age range')['tripduration'].mean() / 60)"
   ]
  },
  {
   "cell_type": "code",
   "execution_count": null,
   "metadata": {},
   "outputs": [],
   "source": [
    "# histogram of distance with grouping of usertype\n",
    "df.groupby('usertype').distance.hist(bins=80, figsize=(15,5))\n",
    "plt.xlabel('Distance')\n",
    "plt.title('Histogram of trip distances in miles grouped by user type')\n",
    "plt.legend(['Customer','Subscriber'])\n",
    "df.groupby('usertype').distance.describe()"
   ]
  },
  {
   "cell_type": "code",
   "execution_count": null,
   "metadata": {},
   "outputs": [],
   "source": [
    "df.groupby('usertype')['distance', 'tripduration'].mean()\n",
    "# calculates average speed for different user types (mile/minute)\n",
    "speed = (df.groupby('usertype')['distance'].mean()) / (df.groupby('usertype')['tripduration'].mean() / 60)"
   ]
  },
  {
   "cell_type": "code",
   "execution_count": null,
   "metadata": {},
   "outputs": [],
   "source": [
    "# scatter plot distance - trip duration (grouped by gender)\n",
    "fig, axs = plt.subplots(1, 3, figsize=(20,6))\n",
    "axs[0].scatter(df[df['gender_specified'] == 'male'].distance, df[df['gender_specified'] == 'male'].tripduration, alpha = 0.4, c = 'g')\n",
    "axs[0].set_xlabel('distance in mile')\n",
    "axs[0].set_ylabel('trip duration')\n",
    "axs[0].set_title('Male')\n",
    "\n",
    "axs[1].scatter(df[df['gender_specified'] == 'female'].distance, df[df['gender_specified'] == 'female'].tripduration, alpha = 0.4, c = 'g')\n",
    "axs[1].set_xlabel('distance in mile')\n",
    "axs[1].set_ylabel('trip duration')\n",
    "axs[1].set_title('Female')\n",
    "\n",
    "axs[2].scatter(df[df['gender_specified'] == 'unknown'].distance, df[df['gender_specified'] == 'unknown'].tripduration, alpha = 0.4, c = 'g')\n",
    "axs[2].set_xlabel('distance in mile')\n",
    "axs[2].set_ylabel('trip duration')\n",
    "axs[2].set_title('Uknown')"
   ]
  },
  {
   "cell_type": "code",
   "execution_count": null,
   "metadata": {},
   "outputs": [],
   "source": [
    "# scatter plot distance - trip duration (grouped by age range)\n",
    "fig, axs = plt.subplots(1, 3, figsize=(20,6))\n",
    "axs[0].scatter(df[df['age range'] == 'younger than 20'].distance, df[df['age range'] == 'younger than 20'].tripduration, alpha = 0.4, c = 'g')\n",
    "axs[0].set_xlabel('distance in mile')\n",
    "axs[0].set_ylabel('trip duration')\n",
    "axs[0].set_title('Younger than 20')\n",
    "\n",
    "axs[1].scatter(df[df['age range'] == 'between 20 and 40'].distance, df[df['age range'] == 'between 20 and 40'].tripduration, alpha = 0.4, c = 'g')\n",
    "axs[1].set_xlabel('distance in mile')\n",
    "axs[1].set_ylabel('trip duration')\n",
    "axs[1].set_title('Between 20 and 40')\n",
    "\n",
    "axs[2].scatter(df[df['age range'] == 'older than 40'].distance, df[df['age range'] == 'older than 40'].tripduration, alpha = 0.4, c = 'g')\n",
    "axs[2].set_xlabel('distance in mile')\n",
    "axs[2].set_ylabel('trip duration')\n",
    "axs[2].set_title('Older than 40')"
   ]
  },
  {
   "cell_type": "code",
   "execution_count": null,
   "metadata": {},
   "outputs": [],
   "source": [
    "# scatter plot distance - trip duration (grouped by user type)\n",
    "fig, axs = plt.subplots(1, 2, figsize=(15,6))\n",
    "axs[0].scatter(df[df['usertype'] == 'Customer'].distance, df[df['usertype'] == 'Customer'].tripduration, alpha = 0.4, c = 'g')\n",
    "axs[0].set_xlabel('distance in mile')\n",
    "axs[0].set_ylabel('trip duration')\n",
    "axs[0].set_title('Customer')\n",
    "\n",
    "axs[1].scatter(df[df['usertype'] == 'Subscriber'].distance, df[df['usertype'] == 'Subscriber'].tripduration, alpha = 0.4, c = 'g')\n",
    "axs[1].set_xlabel('distance in mile')\n",
    "axs[1].set_ylabel('trip duration')\n",
    "axs[1].set_title('Subscriber')"
   ]
  },
  {
   "cell_type": "code",
   "execution_count": null,
   "metadata": {},
   "outputs": [],
   "source": [
    "df['starttime'] = df['starttime'].apply(lambda x:datetime.datetime.strptime(x,'%Y-%m-%d %H:%M:%S'))\n",
    "df['day_of_week'] = df['starttime'].apply(lambda x: x.weekday()+1) #1-7 representing Mon to Sun\n",
    "df['pickup_hour'] = df['starttime'].apply(lambda x:int(datetime.datetime.strftime(x,'%H')))\n",
    "df['pickup_year'] = df['starttime'].apply(lambda x:int(datetime.datetime.strftime(x,'%Y')))\n",
    "df['pickup_month'] = df['starttime'].apply(lambda x:int(datetime.datetime.strftime(x,'%m')))\n",
    "# rename weekday, weekend\n",
    "df['week'] = np.where(df['day_of_week'] < 6, 'weekday', 'weekend')"
   ]
  },
  {
   "cell_type": "code",
   "execution_count": null,
   "metadata": {},
   "outputs": [],
   "source": [
    "# histogram of number of trips during a day grouped by age\n",
    "df.groupby('age range').pickup_hour.hist(bins=30, figsize=(15,5))\n",
    "plt.xlabel('Hour of day')\n",
    "plt.title('Histogram of trips during a day grouped by age')\n",
    "plt.legend(['younger than 20', 'between 20 and 40', 'older than 40'])"
   ]
  },
  {
   "cell_type": "markdown",
   "metadata": {},
   "source": [
    "<li>We expect to see more people under the age of 20 using citi bike during rush hours since the probability of having a car for them is low."
   ]
  },
  {
   "cell_type": "markdown",
   "metadata": {},
   "source": [
    "# Rush hour speed"
   ]
  },
  {
   "cell_type": "code",
   "execution_count": null,
   "metadata": {},
   "outputs": [],
   "source": [
    "# filter out rush hour \n",
    "df_rush = df[((df['pickup_hour'] <= 9) & (df['pickup_hour'] >= 7)) | \n",
    "             ((df['pickup_hour'] <= 19) & (df['pickup_hour'] >= 16))]"
   ]
  },
  {
   "cell_type": "code",
   "execution_count": null,
   "metadata": {},
   "outputs": [],
   "source": [
    "# scatter plot distance - trip duration (grouped by age range)\n",
    "fig, axs = plt.subplots(1, 3, figsize=(20,6))\n",
    "axs[0].scatter(df_rush[df_rush['age range'] == 'younger than 20'].pickup_hour, \n",
    "               (df_rush[df_rush['age range'] == 'younger than 20'].tripduration) / 60, \n",
    "               alpha = 0.4, c = 'g')\n",
    "axs[0].set_xlabel('hour of day')\n",
    "axs[0].set_ylabel('trip duration')\n",
    "axs[0].set_title('Younger than 20')\n",
    "\n",
    "axs[1].scatter(df_rush[df_rush['age range'] == 'between 20 and 40'].pickup_hour, \n",
    "               (df_rush[df_rush['age range'] == 'between 20 and 40'].tripduration) / 60, \n",
    "               alpha = 0.4, c = 'g')\n",
    "axs[1].set_xlabel('hour of day')\n",
    "axs[1].set_ylabel('trip duration')\n",
    "axs[1].set_title('Between 20 and 40')\n",
    "\n",
    "axs[2].scatter(df_rush[df_rush['age range'] == 'older than 40'].pickup_hour, \n",
    "               (df_rush[df_rush['age range'] == 'older than 40'].tripduration) / 60, \n",
    "               alpha = 0.4, c = 'g')\n",
    "axs[2].set_xlabel('hour of day')\n",
    "axs[2].set_ylabel('trip duration')\n",
    "axs[2].set_title('Older than 40')"
   ]
  },
  {
   "cell_type": "code",
   "execution_count": null,
   "metadata": {},
   "outputs": [],
   "source": [
    "# scatter plot distance - trip duration (grouped by gender)\n",
    "fig, axs = plt.subplots(1, 3, figsize=(20,6))\n",
    "axs[0].scatter(df_rush[df_rush['gender_specified'] == 'male'].pickup_hour, \n",
    "               (df_rush[df_rush['gender_specified'] == 'male'].tripduration) / 60, \n",
    "               alpha = 0.4, c = 'g')\n",
    "axs[0].set_xlabel('hour of day')\n",
    "axs[0].set_ylabel('trip duration')\n",
    "axs[0].set_title('male')\n",
    "\n",
    "axs[1].scatter(df_rush[df_rush['gender_specified'] == 'female'].pickup_hour, \n",
    "               (df_rush[df_rush['gender_specified'] == 'female'].tripduration) / 60, \n",
    "               alpha = 0.4, c = 'g')\n",
    "axs[1].set_xlabel('hour of day')\n",
    "axs[1].set_ylabel('trip duration')\n",
    "axs[1].set_title('female')\n",
    "\n",
    "axs[2].scatter(df_rush[df_rush['gender_specified'] == 'unknown'].pickup_hour, \n",
    "               (df_rush[df_rush['gender_specified'] == 'unknown'].tripduration) / 60, \n",
    "               alpha = 0.4, c = 'g')\n",
    "axs[2].set_xlabel('hour of day')\n",
    "axs[2].set_ylabel('trip duration')\n",
    "axs[2].set_title('unknown')"
   ]
  },
  {
   "cell_type": "markdown",
   "metadata": {},
   "source": [
    "# Trips by hour on weekdays and weekends"
   ]
  },
  {
   "cell_type": "code",
   "execution_count": 3,
   "metadata": {},
   "outputs": [],
   "source": [
    "%matplotlib inline\n",
    "import matplotlib.pyplot as plt\n",
    "plt.style.use('seaborn')\n",
    "import datetime\n",
    "import pandas as pd"
   ]
  },
  {
   "cell_type": "code",
   "execution_count": null,
   "metadata": {},
   "outputs": [],
   "source": [
    "datafile = \"2014-01 - Citi Bike trip data.csv\"\n",
    "df = pd.read_csv(datafile)\n",
    "df = df.dropna(how='any')\n",
    "df"
   ]
  },
  {
   "cell_type": "code",
   "execution_count": null,
   "metadata": {},
   "outputs": [],
   "source": [
    "#formatting data\n",
    "df['starttime'] = df['starttime'].apply(lambda x:datetime.datetime.strptime(x,'%Y-%m-%d %H:%M:%S'))\n",
    "#df['starttime'] = df['starttime'].apply(lambda x:datetime.datetime.strptime(x,'%d/%m/%Y %H:%M'))\n",
    "df['day_of_week'] = df['starttime'].apply(lambda x: x.weekday()+1) #1-7 representing Mon to Sun\n",
    "df['pickup_hour'] = df['starttime'].apply(lambda x:int(datetime.datetime.strftime(x,'%H')))\n",
    "df['pickup_year'] = df['starttime'].apply(lambda x:int(datetime.datetime.strftime(x,'%Y')))\n",
    "df['pickup_month'] = df['starttime'].apply(lambda x:int(datetime.datetime.strftime(x,'%m')))\n",
    "\n",
    "#pick up density by months\n",
    "group_month = df.groupby('pickup_month')\n",
    "group_month.size().plot(kind='bar',title=\"Trips by months\")\n",
    "\n",
    "#pick up density by hour on weekdays\n",
    "df_weekday=df[(df['day_of_week']!=6)&(df['day_of_week']!=7)]\n",
    "group_weekday = df_weekday.groupby('hour')\n",
    "group_weekday.size().plot(kind='bar',title=\"pick up trips by hour on weekday\")\n",
    "\n",
    "#pick up density by hour on weekends\n",
    "df_weekend=df[(df['day_of_week']==6)|(df['day_of_week']==7)]\n",
    "group_weekend = df_weekend.groupby('hour')\n",
    "group_weekend.size().plot(kind='bar',title=\"pick up trips by hour on weekend\")"
   ]
  },
  {
   "cell_type": "markdown",
   "metadata": {},
   "source": [
    "# Busiest start and end stations"
   ]
  },
  {
   "cell_type": "code",
   "execution_count": null,
   "metadata": {},
   "outputs": [],
   "source": [
    "# bar chart of start station density \n",
    "df.groupby('start station name').size().plot(kind='bar',title=\"start station density\")\n",
    "# filter out the top 5 start station with highest use density\n",
    "df.groupby('end station name').size().sort_values(ascending=False)[0:5]"
   ]
  },
  {
   "cell_type": "code",
   "execution_count": null,
   "metadata": {},
   "outputs": [],
   "source": [
    "# bar chart of end station density \n",
    "df.groupby('end station name').size().plot(kind='bar',title=\"end station density\")\n",
    "# filter out the top 5 end station with highest use density\n",
    "df.groupby('end station name').size().sort_values(ascending=False)[0:5]"
   ]
  },
  {
   "cell_type": "markdown",
   "metadata": {},
   "source": [
    "# Pick up density in Manhattan and outer borough"
   ]
  },
  {
   "cell_type": "code",
   "execution_count": 6,
   "metadata": {},
   "outputs": [],
   "source": [
    "def if_Manhattan_station(latitude,longitude):\n",
    "    \n",
    "    # Separate Manhattan into five rectangles to check whether one given point in Manhattan or not.\n",
    "    # In referrence to the bike distribution in https://member.citibikenyc.com/map/ and \n",
    "    \n",
    "    a1=[(40.6997,40.7080),(-74.0200,-74.0003)]\n",
    "    a2=[(40.7501,40.8445),(-73.9704,-73.9550)]\n",
    "    a3=[(40.7080,40.8162),(-74.0200,-73.9704)]\n",
    "    a4=[(40.7641,40.8445),(-73.9550,-73.9418)]\n",
    "    a5=[(40.7836,40.8445),(-73.9418,-73.9273)] \n",
    "    a6=[(40.7232,40.7609),(-73.9846,-73.9639)]\n",
    "    \n",
    "    # Start checking\n",
    "    if ((a1[0][0]<=latitude<=a1[0][1]) & (a1[1][0]<=longitude<=a1[1][1]))\\\n",
    "    or ((a2[0][0]<=latitude<=a2[0][1]) & (a2[1][0]<=longitude<=a2[1][1]))\\\n",
    "    or ((a3[0][0]<=latitude<=a3[0][1]) & (a3[1][0]<=longitude<=a3[1][1]))\\\n",
    "    or ((a4[0][0]<=latitude<=a4[0][1]) & (a4[1][0]<=longitude<=a4[1][1]))\\\n",
    "    or ((a5[0][0]<=latitude<=a5[0][1]) & (a5[1][0]<=longitude<=a5[1][1]))\\\n",
    "    or ((a6[0][0]<=latitude<=a6[0][1]) & (a6[1][0]<=longitude<=a6[1][1]))\\\n",
    "    or (latitude==40.750020)&(longitude==-73.969053): \n",
    "    \n",
    "        return 1 # point within Manhattan\n",
    "    else:\n",
    "        return 0 # point out of Manhattan\n"
   ]
  },
  {
   "cell_type": "markdown",
   "metadata": {},
   "source": [
    "<li>Trips by hour between Manhattan and outer borough on weekday"
   ]
  },
  {
   "cell_type": "code",
   "execution_count": 7,
   "metadata": {},
   "outputs": [
    {
     "name": "stderr",
     "output_type": "stream",
     "text": [
      "/Users/chenyichang/anaconda3/lib/python3.6/site-packages/ipykernel_launcher.py:3: SettingWithCopyWarning: \n",
      "A value is trying to be set on a copy of a slice from a DataFrame.\n",
      "Try using .loc[row_indexer,col_indexer] = value instead\n",
      "\n",
      "See the caveats in the documentation: http://pandas.pydata.org/pandas-docs/stable/indexing.html#indexing-view-versus-copy\n",
      "  This is separate from the ipykernel package so we can avoid doing imports until\n",
      "/Users/chenyichang/anaconda3/lib/python3.6/site-packages/ipykernel_launcher.py:4: SettingWithCopyWarning: \n",
      "A value is trying to be set on a copy of a slice from a DataFrame.\n",
      "Try using .loc[row_indexer,col_indexer] = value instead\n",
      "\n",
      "See the caveats in the documentation: http://pandas.pydata.org/pandas-docs/stable/indexing.html#indexing-view-versus-copy\n",
      "  after removing the cwd from sys.path.\n",
      "/Users/chenyichang/anaconda3/lib/python3.6/site-packages/ipykernel_launcher.py:6: SettingWithCopyWarning: \n",
      "A value is trying to be set on a copy of a slice from a DataFrame.\n",
      "Try using .loc[row_indexer,col_indexer] = value instead\n",
      "\n",
      "See the caveats in the documentation: http://pandas.pydata.org/pandas-docs/stable/indexing.html#indexing-view-versus-copy\n",
      "  \n",
      "/Users/chenyichang/anaconda3/lib/python3.6/site-packages/ipykernel_launcher.py:7: SettingWithCopyWarning: \n",
      "A value is trying to be set on a copy of a slice from a DataFrame.\n",
      "Try using .loc[row_indexer,col_indexer] = value instead\n",
      "\n",
      "See the caveats in the documentation: http://pandas.pydata.org/pandas-docs/stable/indexing.html#indexing-view-versus-copy\n",
      "  import sys\n"
     ]
    }
   ],
   "source": [
    "df_weekday=df[(df['day_of_week']!=6)&(df['day_of_week']!=7)]\n",
    "# add column to check whether start and end station in Manhattan or not\n",
    "df_weekday['if_start_Manhattan']=df_weekday.apply(lambda x: if_Manhattan_station(x['start station latitude'],x['start station longitude']),axis=1)\n",
    "df_weekday['if_end_Manhattan']=df_weekday.apply(lambda x: if_Manhattan_station(x['end station latitude'],x['end station longitude']),axis=1)\n",
    "\n",
    "df_weekday['stoptime'] = df_weekday['stoptime'].apply(lambda x:datetime.datetime.strptime(x,'%Y-%m-%d %H:%M:%S'))\n",
    "df_weekday['end_hour'] = df_weekday['stoptime'].apply(lambda x:int(datetime.datetime.strftime(x,'%H')))\n",
    "\n",
    "# separate trip according to direction(Manhattan<->outer borough)\n",
    "df_Manhattan_out=df_weekday[(df_weekday['if_start_Manhattan']==1)&(df_weekday['if_end_Manhattan']==0)]\n",
    "df_Manhattan_in=df_weekday[(df_weekday['if_start_Manhattan']==0)&(df_weekday['if_end_Manhattan']==1)]\n",
    "\n",
    "# calculate number of trips per hour based on different directions.\n",
    "out_count_byhour=dict()\n",
    "for i in range(24):\n",
    "    out_count_byhour[i]=df_Manhattan_out[(df_Manhattan_out['pickup_hour']<=i)\\\n",
    "                                         &(i<=df_Manhattan_out['end_hour'])]['tripduration'].count()\n",
    "\n",
    "in_count_byhour=dict()\n",
    "for i in range(24):\n",
    "    in_count_byhour[i]=df_Manhattan_in[(df_Manhattan_in['pickup_hour']<=i)\\\n",
    "                                         &(i<=df_Manhattan_in['end_hour'])]['tripduration'].count()"
   ]
  },
  {
   "cell_type": "code",
   "execution_count": 8,
   "metadata": {},
   "outputs": [
    {
     "data": {
      "image/png": "[encoded data removed]",
      "text/plain": [
       "<Figure size 576x288 with 1 Axes>"
      ]
     },
     "metadata": {},
     "output_type": "display_data"
    },
    {
     "data": {
      "image/png": "[encoded data removed]",
      "text/plain": [
       "<Figure size 576x288 with 1 Axes>"
      ]
     },
     "metadata": {},
     "output_type": "display_data"
    }
   ],
   "source": [
    "#Plot chart\n",
    "x = out_count_byhour.keys()\n",
    "y = out_count_byhour.values()\n",
    "plt.figure(figsize=(8,4)) \n",
    "plt.plot(x,y,\"b--\",linewidth=1)\n",
    "plt.xlabel(\"Time(h)\") \n",
    "plt.ylabel(\"Trips\") \n",
    "plt.title(\"Trips by hour from Manhattan to outer borough on weekday\")\n",
    "plt.show()\n",
    "\n",
    "x = in_count_byhour.keys()\n",
    "y = in_count_byhour.values()\n",
    "plt.figure(figsize=(8,4)) \n",
    "plt.plot(x,y,\"b--\",linewidth=1)\n",
    "plt.xlabel(\"Time(h)\") \n",
    "plt.ylabel(\"Trips\") \n",
    "plt.title(\"Trips by hour from outer borough to Manhattan on weekday\")\n",
    "plt.show()"
   ]
  },
  {
   "cell_type": "markdown",
   "metadata": {},
   "source": [
    "<li>Trips by hour between Manhattan and outer borough on weekend"
   ]
  },
  {
   "cell_type": "code",
   "execution_count": null,
   "metadata": {},
   "outputs": [],
   "source": [
    "df_weekend=df[(df['day_of_week']==6)|(df['day_of_week']==7)]\n",
    "\n",
    "df_weekend['if_start_Manhattan']=df_weekend.apply(lambda x: if_Manhattan_station(x['start station latitude'],x['start station longitude']),axis=1)\n",
    "df_weekend['if_end_Manhattan']=df_weekend.apply(lambda x: if_Manhattan_station(x['end station latitude'],x['end station longitude']),axis=1)\n",
    "\n",
    "df_weekend['stoptime'] = df_weekend['stoptime'].apply(lambda x:datetime.datetime.strptime(x,'%Y-%m-%d %H:%M:%S'))\n",
    "df_weekend['end_hour'] = df_weekend['stoptime'].apply(lambda x:int(datetime.datetime.strftime(x,'%H')))\n",
    "\n",
    "df_Manhattan_out=df_weekend[(df_weekend['if_start_Manhattan']==1)&(df_weekend['if_end_Manhattan']==0)]\n",
    "df_Manhattan_in=df_weekend[(df_weekend['if_start_Manhattan']==0)&(df_weekend['if_end_Manhattan']==1)]\n",
    "\n",
    "out_count_byhour=dict()\n",
    "for i in range(24):\n",
    "    out_count_byhour[i]=df_Manhattan_out[(df_Manhattan_out['pickup_hour']<=i)\\\n",
    "                                         &(i<=df_Manhattan_out['end_hour'])]['tripduration'].count()\n",
    "\n",
    "in_count_byhour=dict()\n",
    "for i in range(24):\n",
    "    in_count_byhour[i]=df_Manhattan_in[(df_Manhattan_in['pickup_hour']<=i)\\\n",
    "                                         &(i<=df_Manhattan_in['end_hour'])]['tripduration'].count()\n"
   ]
  },
  {
   "cell_type": "code",
   "execution_count": 9,
   "metadata": {},
   "outputs": [
    {
     "name": "stderr",
     "output_type": "stream",
     "text": [
      "/Users/chenyichang/anaconda3/lib/python3.6/site-packages/ipykernel_launcher.py:3: SettingWithCopyWarning: \n",
      "A value is trying to be set on a copy of a slice from a DataFrame.\n",
      "Try using .loc[row_indexer,col_indexer] = value instead\n",
      "\n",
      "See the caveats in the documentation: http://pandas.pydata.org/pandas-docs/stable/indexing.html#indexing-view-versus-copy\n",
      "  This is separate from the ipykernel package so we can avoid doing imports until\n",
      "/Users/chenyichang/anaconda3/lib/python3.6/site-packages/ipykernel_launcher.py:4: SettingWithCopyWarning: \n",
      "A value is trying to be set on a copy of a slice from a DataFrame.\n",
      "Try using .loc[row_indexer,col_indexer] = value instead\n",
      "\n",
      "See the caveats in the documentation: http://pandas.pydata.org/pandas-docs/stable/indexing.html#indexing-view-versus-copy\n",
      "  after removing the cwd from sys.path.\n",
      "/Users/chenyichang/anaconda3/lib/python3.6/site-packages/ipykernel_launcher.py:6: SettingWithCopyWarning: \n",
      "A value is trying to be set on a copy of a slice from a DataFrame.\n",
      "Try using .loc[row_indexer,col_indexer] = value instead\n",
      "\n",
      "See the caveats in the documentation: http://pandas.pydata.org/pandas-docs/stable/indexing.html#indexing-view-versus-copy\n",
      "  \n",
      "/Users/chenyichang/anaconda3/lib/python3.6/site-packages/ipykernel_launcher.py:7: SettingWithCopyWarning: \n",
      "A value is trying to be set on a copy of a slice from a DataFrame.\n",
      "Try using .loc[row_indexer,col_indexer] = value instead\n",
      "\n",
      "See the caveats in the documentation: http://pandas.pydata.org/pandas-docs/stable/indexing.html#indexing-view-versus-copy\n",
      "  import sys\n"
     ]
    },
    {
     "data": {
      "image/png": "[encoded data removed]",
      "text/plain": [
       "<Figure size 576x288 with 1 Axes>"
      ]
     },
     "metadata": {},
     "output_type": "display_data"
    },
    {
     "data": {
      "image/png": "[encoded data removed]",
      "text/plain": [
       "<Figure size 576x288 with 1 Axes>"
      ]
     },
     "metadata": {},
     "output_type": "display_data"
    }
   ],
   "source": [
    "#Plot chart\n",
    "x = out_count_byhour.keys()\n",
    "y = out_count_byhour.values()\n",
    "plt.figure(figsize=(8,4)) \n",
    "plt.plot(x,y,\"b--\",linewidth=1)\n",
    "plt.xlabel(\"Time(h)\") \n",
    "plt.ylabel(\"Trips\") \n",
    "plt.title(\"Trips by hour from Manhattan to outer borough on weekend\")\n",
    "plt.show()\n",
    "\n",
    "x = in_count_byhour.keys()\n",
    "y = in_count_byhour.values()\n",
    "plt.figure(figsize=(8,4)) \n",
    "plt.plot(x,y,\"b--\",linewidth=1)\n",
    "plt.xlabel(\"Time(h)\") \n",
    "plt.ylabel(\"Trips\") \n",
    "plt.title(\"Trips by hour from outer borough to Manhattan on weekend\")\n",
    "plt.show()"
   ]
  },
  {
   "cell_type": "markdown",
   "metadata": {},
   "source": [
    "# Build a regression model for prediction trip duration"
   ]
  },
  {
   "cell_type": "code",
   "execution_count": null,
   "metadata": {},
   "outputs": [],
   "source": [
    "import numpy as np\n",
    "import pandas as pd\n",
    "import matplotlib.pyplot as plt\n",
    "%matplotlib inline\n",
    "import seaborn as sns\n",
    "import datetime as dt"
   ]
  },
  {
   "cell_type": "code",
   "execution_count": null,
   "metadata": {},
   "outputs": [],
   "source": [
    "df = pd.read_csv('201809-citibike-tripdata.csv')\n",
    "df_copy = df\n",
    "df.head()"
   ]
  },
  {
   "cell_type": "code",
   "execution_count": null,
   "metadata": {},
   "outputs": [],
   "source": [
    "df.info()"
   ]
  },
  {
   "cell_type": "code",
   "execution_count": null,
   "metadata": {},
   "outputs": [],
   "source": [
    "df = df.drop(df.index[(df['tripduration'] > 10800)])"
   ]
  },
  {
   "cell_type": "code",
   "execution_count": null,
   "metadata": {},
   "outputs": [],
   "source": [
    "df_sample = df.sample(frac = 0.1, random_state = 0)"
   ]
  },
  {
   "cell_type": "code",
   "execution_count": null,
   "metadata": {},
   "outputs": [],
   "source": [
    "df1=df\n",
    "df1=df1.drop(['starttime'], axis = 1)\n",
    "df1=df1.drop(['stoptime'], axis = 1)\n",
    "df1=df1.drop(['start station name'], axis = 1)\n",
    "df1=df1.drop(['end station name'], axis = 1)\n",
    "df1=df1.drop(['start station id'], axis = 1)\n",
    "df1=df1.drop(['end station id'], axis = 1)\n",
    "df1=df1.drop(['bikeid'], axis = 1)\n",
    "df1=df1.drop(['usertype'], axis = 1)\n",
    "df1=df1.drop(['birth year'], axis = 1)\n",
    "df1=df1.drop(['gender'], axis = 1)"
   ]
  },
  {
   "cell_type": "code",
   "execution_count": null,
   "metadata": {},
   "outputs": [],
   "source": [
    "df1"
   ]
  },
  {
   "cell_type": "code",
   "execution_count": null,
   "metadata": {},
   "outputs": [],
   "source": [
    "def distance(lat1, lon1, lat2, lon2):\n",
    "    lat1 = np.radians(lat1)\n",
    "    lon1 = np.radians(lon1)\n",
    "    lat2 = np.radians(lat2)\n",
    "    lon2 = np.radians(lon2)\n",
    "    R = 6373\n",
    "    dlon = lon2 - lon1\n",
    "    dlat = lat2 - lat1\n",
    "    a = (np.sin(dlat/2))**2 + np.cos(lat1) * np.cos(lat2) * (np.sin(dlon/2))**2\n",
    "    c = 2 * np.arctan2(np.sqrt(a), np.sqrt(1-a))\n",
    "    return R * c\n",
    "df1['distance'] = distance(df1['start station latitude'], df1['start station longitude'], \n",
    "                          df1['end station latitude'], df1['end station longitude'])"
   ]
  },
  {
   "cell_type": "code",
   "execution_count": null,
   "metadata": {},
   "outputs": [],
   "source": [
    "df['distance'] = distance(df['start station latitude'], df['start station longitude'], \n",
    "                          df['end station latitude'], df['end station longitude'])"
   ]
  },
  {
   "cell_type": "code",
   "execution_count": null,
   "metadata": {},
   "outputs": [],
   "source": [
    "df1=df1.drop(['start station latitude'], axis = 1)\n",
    "df1=df1.drop(['end station latitude'], axis = 1)\n",
    "df1=df1.drop(['start station longitude'], axis = 1)\n",
    "df1=df1.drop(['end station longitude'], axis = 1)"
   ]
  },
  {
   "cell_type": "code",
   "execution_count": null,
   "metadata": {},
   "outputs": [],
   "source": [
    "df1=pd.get_dummies(df1, drop_first = True)"
   ]
  },
  {
   "cell_type": "code",
   "execution_count": null,
   "metadata": {
    "scrolled": true
   },
   "outputs": [],
   "source": [
    "df1"
   ]
  },
  {
   "cell_type": "markdown",
   "metadata": {},
   "source": [
    "# Lenear Regression Model"
   ]
  },
  {
   "cell_type": "code",
   "execution_count": null,
   "metadata": {},
   "outputs": [],
   "source": [
    "X = df1.iloc[:,1:]  #Independent variable\n",
    "y = df1.iloc[:,:1]   #Dependent variable\n",
    "\n",
    "from sklearn.cross_validation import train_test_split\n",
    "X_train, X_test, y_train, y_test = train_test_split(X, y, test_size = 0.3, random_state = 0)\n",
    "\n",
    "from sklearn.linear_model import LinearRegression\n",
    "regressor = LinearRegression()\n",
    "regressor.fit(X_train, y_train)\n",
    "regressor.score(X_test,y_test)"
   ]
  },
  {
   "cell_type": "code",
   "execution_count": null,
   "metadata": {},
   "outputs": [],
   "source": [
    "df1.corr().loc[:,'tripduration']"
   ]
  },
  {
   "cell_type": "code",
   "execution_count": null,
   "metadata": {},
   "outputs": [],
   "source": [
    "import statsmodels.api as sm\n",
    "X_train = sm.add_constant(X_train)\n",
    "X_test = sm.add_constant(X_test)\n",
    "regressor_OLS = sm.OLS(y_train, X_train).fit()\n",
    "regressor_OLS.summary()"
   ]
  },
  {
   "cell_type": "markdown",
   "metadata": {},
   "source": [
    "# Add back more variables"
   ]
  },
  {
   "cell_type": "markdown",
   "metadata": {},
   "source": [
    "Since the accuracy of the model is not good enough, we add back more variables."
   ]
  },
  {
   "cell_type": "code",
   "execution_count": null,
   "metadata": {},
   "outputs": [],
   "source": [
    "df2 = df\n",
    "\n",
    "df2.head()"
   ]
  },
  {
   "cell_type": "code",
   "execution_count": null,
   "metadata": {},
   "outputs": [],
   "source": [
    "def distance(lat1, lon1, lat2, lon2):\n",
    "    lat1 = np.radians(lat1)\n",
    "    lon1 = np.radians(lon1)\n",
    "    lat2 = np.radians(lat2)\n",
    "    lon2 = np.radians(lon2)\n",
    "    R = 6373\n",
    "    dlon = lon2 - lon1\n",
    "    dlat = lat2 - lat1\n",
    "    a = (np.sin(dlat/2))**2 + np.cos(lat1) * np.cos(lat2) * (np.sin(dlon/2))**2\n",
    "    c = 2 * np.arctan2(np.sqrt(a), np.sqrt(1-a))\n",
    "    return R * c\n",
    "\n",
    "df2['distance'] = distance(df2['start station latitude'], df2['start station longitude'], \n",
    "                           df2['end station latitude'], df2['end station longitude'])"
   ]
  },
  {
   "cell_type": "code",
   "execution_count": null,
   "metadata": {},
   "outputs": [],
   "source": [
    "df2.corr()"
   ]
  },
  {
   "cell_type": "code",
   "execution_count": null,
   "metadata": {},
   "outputs": [],
   "source": [
    "plot.pcolor(df.corr(),cmap='coolwarm') \n",
    "plot.show()"
   ]
  },
  {
   "cell_type": "code",
   "execution_count": null,
   "metadata": {},
   "outputs": [],
   "source": [
    "df2=df\n",
    "df2=df2.drop(['starttime'], axis = 1)\n",
    "df2=df2.drop(['stoptime'], axis = 1)\n",
    "df2=df2.drop(['start station name'], axis = 1)\n",
    "df2=df2.drop(['end station name'], axis = 1)\n",
    "df2=df2.drop(['start station id'], axis = 1)\n",
    "df2=df2.drop(['end station id'], axis = 1)\n",
    "df2=df2.drop(['bikeid'], axis = 1)\n",
    "df2=df2.drop(['birth year'], axis = 1)\n",
    "df2=df2.drop(['gender'], axis = 1)"
   ]
  },
  {
   "cell_type": "code",
   "execution_count": null,
   "metadata": {},
   "outputs": [],
   "source": [
    "df2['user_type']=np.where(df['usertype']=='Subscriber',1,0)"
   ]
  },
  {
   "cell_type": "code",
   "execution_count": null,
   "metadata": {},
   "outputs": [],
   "source": [
    "df2=df2.drop(['start station latitude'], axis = 1)\n",
    "df2=df2.drop(['start station longitude'], axis = 1)\n",
    "df2=df2.drop(['end station latitude'], axis = 1)\n",
    "df2=df2.drop(['end station longitude'], axis = 1)"
   ]
  },
  {
   "cell_type": "code",
   "execution_count": null,
   "metadata": {
    "scrolled": true
   },
   "outputs": [],
   "source": [
    "df2"
   ]
  },
  {
   "cell_type": "code",
   "execution_count": null,
   "metadata": {},
   "outputs": [],
   "source": [
    "X = df2.iloc[:,:2]  #Independent variable\n",
    "y = df2.iloc[:,2:]   #Dependent variable\n",
    "\n",
    "from sklearn.cross_validation import train_test_split\n",
    "X_train, X_test, y_train, y_test = train_test_split(X, y, test_size = 0.3, random_state = 0)\n",
    "\n",
    "from sklearn.linear_model import LinearRegression\n",
    "regressor = LinearRegression()\n",
    "regressor.fit(X_train, y_train)\n",
    "regressor.score(X_test,y_test)\n",
    "\n",
    "df1.corr().loc[:,'tripduration']\n",
    "\n",
    "import statsmodels.api as sm\n",
    "X_train = sm.add_constant(X_train)\n",
    "X_test = sm.add_constant(X_test)\n",
    "regressor_OLS = sm.OLS(y_train, X_train).fit()\n",
    "regressor_OLS.summary()"
   ]
  },
  {
   "cell_type": "code",
   "execution_count": null,
   "metadata": {},
   "outputs": [],
   "source": [
    "from sklearn.ensemble import RandomForestRegressor\n",
    "\n",
    "regressor_rf = RandomForestRegressor(n_estimators = 80, random_state = 0, min_samples_leaf = 600)\n",
    "regressor_rf.fit(X_train,y_train)\n",
    "regressor_rf.score(X_test,y_test)"
   ]
  },
  {
   "cell_type": "code",
   "execution_count": null,
   "metadata": {},
   "outputs": [],
   "source": [
    "%matplotlib inline\n",
    "feature_names = [key for key in df]\n",
    "importances = regressor_rf.feature_importances_\n",
    "indices = np.argsort(importances)\n",
    "plt.figure(figsize=(12,12))\n",
    "plt.title('Feature Importances')\n",
    "plt.barh(range(len(indices)), importances[indices], color='b', align='center')\n",
    "plt.yticks(range(len(indices)),feature_names)\n",
    "plt.xlabel('Relative Importance')"
   ]
  }
 ],
 "metadata": {
  "kernelspec": {
   "display_name": "Python 3",
   "language": "python",
   "name": "python3"
  },
  "language_info": {
   "codemirror_mode": {
    "name": "ipython",
    "version": 3
   },
   "file_extension": ".py",
   "mimetype": "text/x-python",
   "name": "python",
   "nbconvert_exporter": "python",
   "pygments_lexer": "ipython3",
   "version": "3.7.0"
  }
 },
 "nbformat": 4,
 "nbformat_minor": 2
}
