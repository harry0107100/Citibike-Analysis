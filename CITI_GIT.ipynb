{
 "cells": [
  {
   "cell_type": "code",
   "execution_count": null,
   "metadata": {},
   "outputs": [],
   "source": [
    "import pandas as pd\n",
    "import numpy as np\n",
    "%matplotlib inline\n",
    "import matplotlib.pyplot as plt\n",
    "\n",
    "\n",
    "# function for calculating distance\n",
    "# This function is acquired online from:\n",
    "# https://stackoverflow.com/questions/19412462/getting-distance-between-two-points-based-on-latitude-longitude\n",
    "def distance(lat1, lon1, lat2, lon2):\n",
    "    lat1 = np.radians(lat1)\n",
    "    lon1 = np.radians(lon1)\n",
    "    lat2 = np.radians(lat2)\n",
    "    lon2 = np.radians(lon2)\n",
    "    R = 6373\n",
    "    dlon = lon2 - lon1\n",
    "    dlat = lat2 - lat1\n",
    "    a = (np.sin(dlat/2))**2 + np.cos(lat1) * np.cos(lat2) * (np.sin(dlon/2))**2\n",
    "    c = 2 * np.arctan2(np.sqrt(a), np.sqrt(1-a))\n",
    "    return R * c\n",
    "\n",
    "\n",
    "# add a new column for distance calculated\n",
    "df['distance'] = distance(df['start station latitude'], df['start station longitude'], \n",
    "                          df['end station latitude'], df['end station longitude'])\n",
    "\n",
    "# add a new column age\n",
    "df['age'] = 2018 - df['birth year']\n",
    "\n",
    "# drop if distance = 0 but tripduration > 0\n",
    "df.drop(df[(df['distance'] == 0) & (df['tripduration'] > 0)].index, inplace = True)\n",
    "\n",
    "\n",
    "# histogram of distance without grouping\n",
    "df.distance.hist(bins=80, figsize=(15,5))\n",
    "plt.xlabel('Distance')\n",
    "plt.title('Histogram of trip distances in miles')\n",
    "df.distance.describe()"
   ]
  },
  {
   "cell_type": "markdown",
   "metadata": {},
   "source": [
    "<li>We can see from above histogram that the bike trips are primarily short-distance trips. There are few trips longer than 3 miles."
   ]
  },
  {
   "cell_type": "code",
   "execution_count": null,
   "metadata": {},
   "outputs": [],
   "source": [
    "# histogram of distance and time with grouping of age, gender, and usertype\n",
    "df.groupby('gender')['distance', 'tripduration'].mean()\n",
    "df.groupby('age')['distance', 'tripduration'].mean()\n",
    "df.groupby('usertype')['distance', 'tripduration'].mean()"
   ]
  },
  {
   "cell_type": "code",
   "execution_count": null,
   "metadata": {},
   "outputs": [],
   "source": []
  },
  {
   "cell_type": "markdown",
   "metadata": {},
   "source": [
    "<li> Bar charts on NYC Citi Bike trips by hour on weekdays and weekends separately"
   ]
  },
  {
   "cell_type": "code",
   "execution_count": null,
   "metadata": {},
   "outputs": [],
   "source": [
    "%matplotlib inline\n",
    "import matplotlib.pyplot as plt\n",
    "plt.style.use('seaborn')\n",
    "import datetime\n",
    "\n",
    "#formatting data\n",
    "df['year'] = df.starttime.apply(lambda t: t.year())\n",
    "df['month'] = df.starttime.apply(lambda t: t.month())\n",
    "df['day'] = df.starttime.apply(lambda t: t.weekday())\n",
    "df['hour'] = df.starttime.apply(lambda t: t.hour())\n",
    "\n",
    "#pick up density by months\n",
    "group_month = df.groupby('month')\n",
    "group_month.size().plot(kind='bar')\n",
    "\n",
    "#pick up density by hour on weekdays\n",
    "df_weekday=df[df[day==(0|1|2|3|4)]]\n",
    "group_weekday = df_weekday.groupby('hour')\n",
    "group_weekday.size().plot(kind='bar')\n",
    "\n",
    "#pick up density by hour on weekends\n",
    "df_weekend=df[df[day==(5|6)]]\n",
    "group_weekend = df_weekend.groupby('hour')\n",
    "group_weekend.size().plot(kind='bar')"
   ]
  }
 ],
 "metadata": {
  "kernelspec": {
   "display_name": "Python 3",
   "language": "python",
   "name": "python3"
  },
  "language_info": {
   "codemirror_mode": {
    "name": "ipython",
    "version": 3
   },
   "file_extension": ".py",
   "mimetype": "text/x-python",
   "name": "python",
   "nbconvert_exporter": "python",
   "pygments_lexer": "ipython3",
   "version": "3.6.5"
  }
 },
 "nbformat": 4,
 "nbformat_minor": 2
}
