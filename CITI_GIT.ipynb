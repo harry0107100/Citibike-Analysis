{
 "cells": [
  {
   "cell_type": "code",
   "execution_count": null,
   "metadata": {},
   "outputs": [],
   "source": [
    "import pandas as pd\n",
    "import numpy as np\n",
    "%matplotlib inline\n",
    "import matplotlib.pyplot as plt\n",
    "\n",
    "\n",
    "# function for calculating distance\n",
    "# This function is acquired online from:\n",
    "# https://stackoverflow.com/questions/19412462/getting-distance-between-two-points-based-on-latitude-longitude\n",
    "def distance(lat1, lon1, lat2, lon2):\n",
    "    lat1 = np.radians(lat1)\n",
    "    lon1 = np.radians(lon1)\n",
    "    lat2 = np.radians(lat2)\n",
    "    lon2 = np.radians(lon2)\n",
    "    R = 6373\n",
    "    dlon = lon2 - lon1\n",
    "    dlat = lat2 - lat1\n",
    "    a = (np.sin(dlat/2))**2 + np.cos(lat1) * np.cos(lat2) * (np.sin(dlon/2))**2\n",
    "    c = 2 * np.arctan2(np.sqrt(a), np.sqrt(1-a))\n",
    "    return R * c\n",
    "\n",
    "\n",
    "# add a new column for distance calculated\n",
    "df['distance'] = distance(df['start station latitude'], df['start station longitude'], \n",
    "                          df['end station latitude'], df['end station longitude'])\n",
    "\n",
    "# add a new column age\n",
    "df['age'] = 2018 - df['birth year']\n",
    "\n",
    "# drop if distance = 0 but tripduration > 0\n",
    "df.drop(df[(df['distance'] == 0) & (df['tripduration'] > 0)].index, inplace = True)\n",
    "\n",
    "\n",
    "# histogram of distance without grouping\n",
    "df.distance.hist(bins=80, figsize=(15,5))\n",
    "plt.xlabel('Distance')\n",
    "plt.title('Histogram of trip distances in miles')\n",
    "df.distance.describe()"
   ]
  },
  {
   "cell_type": "markdown",
   "metadata": {},
   "source": [
    "<li>We can see from above histogram that the bike trips are primarily short-distance trips. There are few trips longer than 3 miles."
   ]
  },
  {
   "cell_type": "code",
   "execution_count": null,
   "metadata": {},
   "outputs": [],
   "source": [
    "# histogram of distance and time with grouping of age, gender, and usertype\n",
    "df.groupby('gender')['distance', 'tripduration'].mean()\n",
    "df.groupby('age')['distance', 'tripduration'].mean()\n",
    "df.groupby('usertype')['distance', 'tripduration'].mean()"
   ]
  }
 ],
 "metadata": {
  "kernelspec": {
   "display_name": "Python 3",
   "language": "python",
   "name": "python3"
  },
  "language_info": {
   "codemirror_mode": {
    "name": "ipython",
    "version": 3
   },
   "file_extension": ".py",
   "mimetype": "text/x-python",
   "name": "python",
   "nbconvert_exporter": "python",
   "pygments_lexer": "ipython3",
   "version": "3.6.5"
  }
 },
 "nbformat": 4,
 "nbformat_minor": 2
}
